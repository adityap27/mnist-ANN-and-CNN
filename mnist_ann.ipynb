{
  "nbformat": 4,
  "nbformat_minor": 0,
  "metadata": {
    "language_info": {
      "codemirror_mode": {
        "name": "ipython",
        "version": 3
      },
      "file_extension": ".py",
      "mimetype": "text/x-python",
      "name": "python",
      "nbconvert_exporter": "python",
      "pygments_lexer": "ipython3",
      "version": "3.7.4-final"
    },
    "orig_nbformat": 2,
    "kernelspec": {
      "name": "python3",
      "display_name": "Python 3"
    },
    "colab": {
      "name": "mnist-ann.ipynb",
      "provenance": [],
      "collapsed_sections": [],
      "include_colab_link": true
    },
    "accelerator": "GPU"
  },
  "cells": [
    {
      "cell_type": "markdown",
      "metadata": {
        "id": "view-in-github",
        "colab_type": "text"
      },
      "source": [
        "<a href=\"https://colab.research.google.com/github/adityap27/mnist-ann/blob/master/mnist_ann.ipynb\" target=\"_parent\"><img src=\"https://colab.research.google.com/assets/colab-badge.svg\" alt=\"Open In Colab\"/></a>"
      ]
    },
    {
      "cell_type": "markdown",
      "metadata": {
        "id": "L6V8O6Fjx0iy",
        "colab_type": "text"
      },
      "source": [
        "# **1.) Data Preprocessing**"
      ]
    },
    {
      "cell_type": "code",
      "metadata": {
        "id": "gO1pNdcBEDuQ",
        "colab_type": "code",
        "outputId": "0a901043-a54d-4120-b8d7-7063b29bbbfe",
        "colab": {
          "base_uri": "https://localhost:8080/",
          "height": 34
        }
      },
      "source": [
        "# Data Preprocessing\n",
        "from keras.datasets import mnist\n",
        " \n",
        "# Importing the dataset\n",
        "(X_train,y_train),(X_test,y_test) = mnist.load_data()\n",
        "\n",
        "#flatten the images\n",
        "X_train=X_train.reshape((X_train.shape[0],784))\n",
        "X_test=X_test.reshape((X_test.shape[0],784))\n",
        "y_train=y_train.reshape((y_train.shape[0],1)) #fixing shape\n",
        "y_test=y_test.reshape((y_test.shape[0],1)) #fixing shape\n",
        "\n",
        "#Encoding of categorical data to one-hot format\n",
        "from sklearn.preprocessing import OneHotEncoder\n",
        "onehotencoder=OneHotEncoder(sparse=False)\n",
        "y_train=onehotencoder.fit_transform(y_train)\n",
        "y_test=onehotencoder.transform(y_test)\n",
        "\n",
        "# Splitting the Training into the Training set and Validation set\n",
        "from sklearn.model_selection import train_test_split\n",
        "X_train, X_val, y_train, y_val = train_test_split(X_train, y_train, test_size = 0.175, random_state = 0)\n",
        "\n",
        "#Feature Scaling\n",
        "X_train = X_train / 255\n",
        "X_val = X_val / 255\n",
        "X_test = X_test / 255"
      ],
      "execution_count": 0,
      "outputs": [
        {
          "output_type": "stream",
          "text": [
            "Using TensorFlow backend.\n"
          ],
          "name": "stderr"
        }
      ]
    },
    {
      "cell_type": "markdown",
      "metadata": {
        "id": "19mLQmFJx0jI",
        "colab_type": "text"
      },
      "source": [
        "# **2.) Build and Train ANN**"
      ]
    },
    {
      "cell_type": "code",
      "metadata": {
        "id": "2U50Rkvfx0jK",
        "colab_type": "code",
        "colab": {}
      },
      "source": [
        "#ANN\n",
        "\n",
        "#import libraries\n",
        "import keras\n",
        "from keras.models import Sequential\n",
        "from keras.layers import Dense,Activation,Dropout,BatchNormalization"
      ],
      "execution_count": 0,
      "outputs": []
    },
    {
      "cell_type": "code",
      "metadata": {
        "id": "3BGOrlSwx0jS",
        "colab_type": "code",
        "colab": {}
      },
      "source": [
        "#Build ANN model\n",
        "model=Sequential()\n",
        "model.add(Dense(256,kernel_initializer='he_normal',input_shape=(784,)))\n",
        "model.add(Activation('relu'))\n",
        "model.add(Dropout(0.4))\n",
        "\n",
        "model.add(Dense(256,kernel_initializer='he_normal'))\n",
        "model.add(Activation('relu'))\n",
        "model.add(Dropout(0.4))\n",
        "\n",
        "model.add(Dense(10,activation='softmax',kernel_initializer='glorot_normal'))\n",
        "\n",
        "#Compiling model\n",
        "model.compile(optimizer=keras.optimizers.Adam(learning_rate=0.001),loss='categorical_crossentropy',metrics=['accuracy'])\n"
      ],
      "execution_count": 0,
      "outputs": []
    },
    {
      "cell_type": "code",
      "metadata": {
        "id": "Qw8puyrfx0jb",
        "colab_type": "code",
        "outputId": "a815d61c-b1b4-464e-a0fd-edb9d32e4645",
        "colab": {
          "base_uri": "https://localhost:8080/",
          "height": 1000
        }
      },
      "source": [
        "#Training model\n",
        "history=model.fit(X_train,y_train,epochs=150,batch_size=512,validation_data=(X_val,y_val),verbose=2,use_multiprocessing=True)"
      ],
      "execution_count": 0,
      "outputs": [
        {
          "output_type": "stream",
          "text": [
            "Train on 49500 samples, validate on 10500 samples\n",
            "Epoch 1/150\n",
            " - 1s - loss: 0.7091 - accuracy: 0.7776 - val_loss: 0.2229 - val_accuracy: 0.9326\n",
            "Epoch 2/150\n",
            " - 1s - loss: 0.2741 - accuracy: 0.9191 - val_loss: 0.1526 - val_accuracy: 0.9538\n",
            "Epoch 3/150\n",
            " - 1s - loss: 0.2042 - accuracy: 0.9410 - val_loss: 0.1261 - val_accuracy: 0.9621\n",
            "Epoch 4/150\n",
            " - 1s - loss: 0.1684 - accuracy: 0.9493 - val_loss: 0.1071 - val_accuracy: 0.9675\n",
            "Epoch 5/150\n",
            " - 1s - loss: 0.1452 - accuracy: 0.9561 - val_loss: 0.0985 - val_accuracy: 0.9705\n",
            "Epoch 6/150\n",
            " - 1s - loss: 0.1256 - accuracy: 0.9631 - val_loss: 0.0925 - val_accuracy: 0.9719\n",
            "Epoch 7/150\n",
            " - 1s - loss: 0.1146 - accuracy: 0.9656 - val_loss: 0.0858 - val_accuracy: 0.9743\n",
            "Epoch 8/150\n",
            " - 1s - loss: 0.1031 - accuracy: 0.9687 - val_loss: 0.0809 - val_accuracy: 0.9757\n",
            "Epoch 9/150\n",
            " - 1s - loss: 0.0941 - accuracy: 0.9713 - val_loss: 0.0771 - val_accuracy: 0.9763\n",
            "Epoch 10/150\n",
            " - 1s - loss: 0.0869 - accuracy: 0.9732 - val_loss: 0.0723 - val_accuracy: 0.9785\n",
            "Epoch 11/150\n",
            " - 1s - loss: 0.0824 - accuracy: 0.9740 - val_loss: 0.0695 - val_accuracy: 0.9805\n",
            "Epoch 12/150\n",
            " - 1s - loss: 0.0748 - accuracy: 0.9766 - val_loss: 0.0692 - val_accuracy: 0.9790\n",
            "Epoch 13/150\n",
            " - 1s - loss: 0.0713 - accuracy: 0.9769 - val_loss: 0.0712 - val_accuracy: 0.9787\n",
            "Epoch 14/150\n",
            " - 1s - loss: 0.0668 - accuracy: 0.9792 - val_loss: 0.0652 - val_accuracy: 0.9813\n",
            "Epoch 15/150\n",
            " - 1s - loss: 0.0577 - accuracy: 0.9813 - val_loss: 0.0694 - val_accuracy: 0.9791\n",
            "Epoch 16/150\n",
            " - 1s - loss: 0.0573 - accuracy: 0.9814 - val_loss: 0.0649 - val_accuracy: 0.9789\n",
            "Epoch 17/150\n",
            " - 1s - loss: 0.0554 - accuracy: 0.9823 - val_loss: 0.0633 - val_accuracy: 0.9803\n",
            "Epoch 18/150\n",
            " - 1s - loss: 0.0525 - accuracy: 0.9828 - val_loss: 0.0646 - val_accuracy: 0.9804\n",
            "Epoch 19/150\n",
            " - 1s - loss: 0.0514 - accuracy: 0.9838 - val_loss: 0.0641 - val_accuracy: 0.9810\n",
            "Epoch 20/150\n",
            " - 1s - loss: 0.0472 - accuracy: 0.9850 - val_loss: 0.0657 - val_accuracy: 0.9805\n",
            "Epoch 21/150\n",
            " - 1s - loss: 0.0451 - accuracy: 0.9851 - val_loss: 0.0651 - val_accuracy: 0.9806\n",
            "Epoch 22/150\n",
            " - 1s - loss: 0.0454 - accuracy: 0.9848 - val_loss: 0.0648 - val_accuracy: 0.9810\n",
            "Epoch 23/150\n",
            " - 1s - loss: 0.0404 - accuracy: 0.9865 - val_loss: 0.0656 - val_accuracy: 0.9802\n",
            "Epoch 24/150\n",
            " - 1s - loss: 0.0386 - accuracy: 0.9873 - val_loss: 0.0681 - val_accuracy: 0.9810\n",
            "Epoch 25/150\n",
            " - 1s - loss: 0.0377 - accuracy: 0.9878 - val_loss: 0.0632 - val_accuracy: 0.9818\n",
            "Epoch 26/150\n",
            " - 1s - loss: 0.0372 - accuracy: 0.9879 - val_loss: 0.0637 - val_accuracy: 0.9820\n",
            "Epoch 27/150\n",
            " - 1s - loss: 0.0354 - accuracy: 0.9886 - val_loss: 0.0683 - val_accuracy: 0.9814\n",
            "Epoch 28/150\n",
            " - 1s - loss: 0.0346 - accuracy: 0.9886 - val_loss: 0.0655 - val_accuracy: 0.9818\n",
            "Epoch 29/150\n",
            " - 1s - loss: 0.0328 - accuracy: 0.9888 - val_loss: 0.0658 - val_accuracy: 0.9824\n",
            "Epoch 30/150\n",
            " - 1s - loss: 0.0335 - accuracy: 0.9889 - val_loss: 0.0666 - val_accuracy: 0.9819\n",
            "Epoch 31/150\n",
            " - 1s - loss: 0.0295 - accuracy: 0.9898 - val_loss: 0.0669 - val_accuracy: 0.9818\n",
            "Epoch 32/150\n",
            " - 1s - loss: 0.0307 - accuracy: 0.9900 - val_loss: 0.0672 - val_accuracy: 0.9817\n",
            "Epoch 33/150\n",
            " - 1s - loss: 0.0309 - accuracy: 0.9895 - val_loss: 0.0645 - val_accuracy: 0.9836\n",
            "Epoch 34/150\n",
            " - 1s - loss: 0.0304 - accuracy: 0.9901 - val_loss: 0.0664 - val_accuracy: 0.9833\n",
            "Epoch 35/150\n",
            " - 1s - loss: 0.0283 - accuracy: 0.9908 - val_loss: 0.0697 - val_accuracy: 0.9813\n",
            "Epoch 36/150\n",
            " - 1s - loss: 0.0295 - accuracy: 0.9899 - val_loss: 0.0673 - val_accuracy: 0.9821\n",
            "Epoch 37/150\n",
            " - 1s - loss: 0.0293 - accuracy: 0.9904 - val_loss: 0.0687 - val_accuracy: 0.9818\n",
            "Epoch 38/150\n",
            " - 1s - loss: 0.0269 - accuracy: 0.9910 - val_loss: 0.0691 - val_accuracy: 0.9816\n",
            "Epoch 39/150\n",
            " - 1s - loss: 0.0269 - accuracy: 0.9915 - val_loss: 0.0651 - val_accuracy: 0.9825\n",
            "Epoch 40/150\n",
            " - 1s - loss: 0.0246 - accuracy: 0.9919 - val_loss: 0.0647 - val_accuracy: 0.9833\n",
            "Epoch 41/150\n",
            " - 1s - loss: 0.0246 - accuracy: 0.9919 - val_loss: 0.0701 - val_accuracy: 0.9829\n",
            "Epoch 42/150\n",
            " - 1s - loss: 0.0260 - accuracy: 0.9913 - val_loss: 0.0737 - val_accuracy: 0.9812\n",
            "Epoch 43/150\n",
            " - 1s - loss: 0.0250 - accuracy: 0.9912 - val_loss: 0.0677 - val_accuracy: 0.9833\n",
            "Epoch 44/150\n",
            " - 1s - loss: 0.0245 - accuracy: 0.9912 - val_loss: 0.0678 - val_accuracy: 0.9825\n",
            "Epoch 45/150\n",
            " - 1s - loss: 0.0236 - accuracy: 0.9922 - val_loss: 0.0678 - val_accuracy: 0.9827\n",
            "Epoch 46/150\n",
            " - 1s - loss: 0.0233 - accuracy: 0.9921 - val_loss: 0.0701 - val_accuracy: 0.9803\n",
            "Epoch 47/150\n",
            " - 1s - loss: 0.0215 - accuracy: 0.9929 - val_loss: 0.0666 - val_accuracy: 0.9830\n",
            "Epoch 48/150\n",
            " - 1s - loss: 0.0215 - accuracy: 0.9929 - val_loss: 0.0671 - val_accuracy: 0.9842\n",
            "Epoch 49/150\n",
            " - 1s - loss: 0.0201 - accuracy: 0.9931 - val_loss: 0.0676 - val_accuracy: 0.9826\n",
            "Epoch 50/150\n",
            " - 1s - loss: 0.0205 - accuracy: 0.9929 - val_loss: 0.0701 - val_accuracy: 0.9835\n",
            "Epoch 51/150\n",
            " - 1s - loss: 0.0210 - accuracy: 0.9927 - val_loss: 0.0733 - val_accuracy: 0.9820\n",
            "Epoch 52/150\n",
            " - 1s - loss: 0.0226 - accuracy: 0.9925 - val_loss: 0.0655 - val_accuracy: 0.9830\n",
            "Epoch 53/150\n",
            " - 1s - loss: 0.0208 - accuracy: 0.9932 - val_loss: 0.0765 - val_accuracy: 0.9812\n",
            "Epoch 54/150\n",
            " - 1s - loss: 0.0202 - accuracy: 0.9931 - val_loss: 0.0680 - val_accuracy: 0.9835\n",
            "Epoch 55/150\n",
            " - 1s - loss: 0.0211 - accuracy: 0.9925 - val_loss: 0.0688 - val_accuracy: 0.9832\n",
            "Epoch 56/150\n",
            " - 1s - loss: 0.0218 - accuracy: 0.9927 - val_loss: 0.0713 - val_accuracy: 0.9833\n",
            "Epoch 57/150\n",
            " - 1s - loss: 0.0218 - accuracy: 0.9924 - val_loss: 0.0675 - val_accuracy: 0.9833\n",
            "Epoch 58/150\n",
            " - 1s - loss: 0.0193 - accuracy: 0.9935 - val_loss: 0.0724 - val_accuracy: 0.9825\n",
            "Epoch 59/150\n",
            " - 1s - loss: 0.0188 - accuracy: 0.9933 - val_loss: 0.0726 - val_accuracy: 0.9833\n",
            "Epoch 60/150\n",
            " - 1s - loss: 0.0181 - accuracy: 0.9938 - val_loss: 0.0724 - val_accuracy: 0.9841\n",
            "Epoch 61/150\n",
            " - 1s - loss: 0.0206 - accuracy: 0.9932 - val_loss: 0.0775 - val_accuracy: 0.9827\n",
            "Epoch 62/150\n",
            " - 1s - loss: 0.0195 - accuracy: 0.9929 - val_loss: 0.0758 - val_accuracy: 0.9820\n",
            "Epoch 63/150\n",
            " - 1s - loss: 0.0176 - accuracy: 0.9941 - val_loss: 0.0732 - val_accuracy: 0.9841\n",
            "Epoch 64/150\n",
            " - 1s - loss: 0.0189 - accuracy: 0.9937 - val_loss: 0.0738 - val_accuracy: 0.9824\n",
            "Epoch 65/150\n",
            " - 1s - loss: 0.0175 - accuracy: 0.9942 - val_loss: 0.0705 - val_accuracy: 0.9824\n",
            "Epoch 66/150\n",
            " - 1s - loss: 0.0169 - accuracy: 0.9944 - val_loss: 0.0695 - val_accuracy: 0.9831\n",
            "Epoch 67/150\n",
            " - 1s - loss: 0.0163 - accuracy: 0.9946 - val_loss: 0.0777 - val_accuracy: 0.9827\n",
            "Epoch 68/150\n",
            " - 1s - loss: 0.0185 - accuracy: 0.9940 - val_loss: 0.0735 - val_accuracy: 0.9830\n",
            "Epoch 69/150\n",
            " - 1s - loss: 0.0176 - accuracy: 0.9940 - val_loss: 0.0750 - val_accuracy: 0.9826\n",
            "Epoch 70/150\n",
            " - 1s - loss: 0.0193 - accuracy: 0.9937 - val_loss: 0.0734 - val_accuracy: 0.9830\n",
            "Epoch 71/150\n",
            " - 1s - loss: 0.0152 - accuracy: 0.9947 - val_loss: 0.0728 - val_accuracy: 0.9828\n",
            "Epoch 72/150\n",
            " - 1s - loss: 0.0160 - accuracy: 0.9946 - val_loss: 0.0761 - val_accuracy: 0.9835\n",
            "Epoch 73/150\n",
            " - 1s - loss: 0.0153 - accuracy: 0.9948 - val_loss: 0.0779 - val_accuracy: 0.9832\n",
            "Epoch 74/150\n",
            " - 1s - loss: 0.0170 - accuracy: 0.9941 - val_loss: 0.0793 - val_accuracy: 0.9833\n",
            "Epoch 75/150\n",
            " - 1s - loss: 0.0170 - accuracy: 0.9946 - val_loss: 0.0787 - val_accuracy: 0.9834\n",
            "Epoch 76/150\n",
            " - 1s - loss: 0.0166 - accuracy: 0.9945 - val_loss: 0.0775 - val_accuracy: 0.9830\n",
            "Epoch 77/150\n",
            " - 1s - loss: 0.0161 - accuracy: 0.9945 - val_loss: 0.0712 - val_accuracy: 0.9842\n",
            "Epoch 78/150\n",
            " - 1s - loss: 0.0149 - accuracy: 0.9951 - val_loss: 0.0744 - val_accuracy: 0.9841\n",
            "Epoch 79/150\n",
            " - 1s - loss: 0.0164 - accuracy: 0.9943 - val_loss: 0.0772 - val_accuracy: 0.9839\n",
            "Epoch 80/150\n",
            " - 1s - loss: 0.0171 - accuracy: 0.9942 - val_loss: 0.0778 - val_accuracy: 0.9824\n",
            "Epoch 81/150\n",
            " - 1s - loss: 0.0163 - accuracy: 0.9945 - val_loss: 0.0703 - val_accuracy: 0.9828\n",
            "Epoch 82/150\n",
            " - 1s - loss: 0.0135 - accuracy: 0.9956 - val_loss: 0.0750 - val_accuracy: 0.9834\n",
            "Epoch 83/150\n",
            " - 1s - loss: 0.0159 - accuracy: 0.9948 - val_loss: 0.0740 - val_accuracy: 0.9833\n",
            "Epoch 84/150\n",
            " - 1s - loss: 0.0144 - accuracy: 0.9951 - val_loss: 0.0704 - val_accuracy: 0.9845\n",
            "Epoch 85/150\n",
            " - 1s - loss: 0.0151 - accuracy: 0.9948 - val_loss: 0.0670 - val_accuracy: 0.9834\n",
            "Epoch 86/150\n",
            " - 1s - loss: 0.0141 - accuracy: 0.9951 - val_loss: 0.0743 - val_accuracy: 0.9836\n",
            "Epoch 87/150\n",
            " - 1s - loss: 0.0135 - accuracy: 0.9953 - val_loss: 0.0742 - val_accuracy: 0.9839\n",
            "Epoch 88/150\n",
            " - 1s - loss: 0.0142 - accuracy: 0.9954 - val_loss: 0.0710 - val_accuracy: 0.9845\n",
            "Epoch 89/150\n",
            " - 1s - loss: 0.0145 - accuracy: 0.9952 - val_loss: 0.0745 - val_accuracy: 0.9840\n",
            "Epoch 90/150\n",
            " - 1s - loss: 0.0153 - accuracy: 0.9949 - val_loss: 0.0811 - val_accuracy: 0.9827\n",
            "Epoch 91/150\n",
            " - 1s - loss: 0.0148 - accuracy: 0.9951 - val_loss: 0.0768 - val_accuracy: 0.9833\n",
            "Epoch 92/150\n",
            " - 1s - loss: 0.0153 - accuracy: 0.9948 - val_loss: 0.0776 - val_accuracy: 0.9829\n",
            "Epoch 93/150\n",
            " - 1s - loss: 0.0126 - accuracy: 0.9957 - val_loss: 0.0835 - val_accuracy: 0.9830\n",
            "Epoch 94/150\n",
            " - 1s - loss: 0.0138 - accuracy: 0.9956 - val_loss: 0.0764 - val_accuracy: 0.9834\n",
            "Epoch 95/150\n",
            " - 1s - loss: 0.0150 - accuracy: 0.9953 - val_loss: 0.0737 - val_accuracy: 0.9834\n",
            "Epoch 96/150\n",
            " - 1s - loss: 0.0133 - accuracy: 0.9953 - val_loss: 0.0722 - val_accuracy: 0.9842\n",
            "Epoch 97/150\n",
            " - 1s - loss: 0.0131 - accuracy: 0.9958 - val_loss: 0.0729 - val_accuracy: 0.9835\n",
            "Epoch 98/150\n",
            " - 1s - loss: 0.0149 - accuracy: 0.9948 - val_loss: 0.0714 - val_accuracy: 0.9846\n",
            "Epoch 99/150\n",
            " - 1s - loss: 0.0136 - accuracy: 0.9956 - val_loss: 0.0772 - val_accuracy: 0.9837\n",
            "Epoch 100/150\n",
            " - 1s - loss: 0.0136 - accuracy: 0.9955 - val_loss: 0.0763 - val_accuracy: 0.9845\n",
            "Epoch 101/150\n",
            " - 1s - loss: 0.0136 - accuracy: 0.9953 - val_loss: 0.0706 - val_accuracy: 0.9841\n",
            "Epoch 102/150\n",
            " - 1s - loss: 0.0131 - accuracy: 0.9957 - val_loss: 0.0788 - val_accuracy: 0.9841\n",
            "Epoch 103/150\n",
            " - 1s - loss: 0.0134 - accuracy: 0.9957 - val_loss: 0.0738 - val_accuracy: 0.9849\n",
            "Epoch 104/150\n",
            " - 1s - loss: 0.0126 - accuracy: 0.9955 - val_loss: 0.0737 - val_accuracy: 0.9844\n",
            "Epoch 105/150\n",
            " - 1s - loss: 0.0136 - accuracy: 0.9955 - val_loss: 0.0749 - val_accuracy: 0.9832\n",
            "Epoch 106/150\n",
            " - 1s - loss: 0.0132 - accuracy: 0.9956 - val_loss: 0.0744 - val_accuracy: 0.9839\n",
            "Epoch 107/150\n",
            " - 1s - loss: 0.0129 - accuracy: 0.9956 - val_loss: 0.0772 - val_accuracy: 0.9842\n",
            "Epoch 108/150\n",
            " - 1s - loss: 0.0119 - accuracy: 0.9960 - val_loss: 0.0772 - val_accuracy: 0.9834\n",
            "Epoch 109/150\n",
            " - 1s - loss: 0.0117 - accuracy: 0.9960 - val_loss: 0.0797 - val_accuracy: 0.9836\n",
            "Epoch 110/150\n",
            " - 1s - loss: 0.0125 - accuracy: 0.9960 - val_loss: 0.0744 - val_accuracy: 0.9838\n",
            "Epoch 111/150\n",
            " - 1s - loss: 0.0125 - accuracy: 0.9955 - val_loss: 0.0789 - val_accuracy: 0.9835\n",
            "Epoch 112/150\n",
            " - 1s - loss: 0.0146 - accuracy: 0.9950 - val_loss: 0.0738 - val_accuracy: 0.9842\n",
            "Epoch 113/150\n",
            " - 1s - loss: 0.0129 - accuracy: 0.9957 - val_loss: 0.0800 - val_accuracy: 0.9850\n",
            "Epoch 114/150\n",
            " - 1s - loss: 0.0152 - accuracy: 0.9953 - val_loss: 0.0716 - val_accuracy: 0.9852\n",
            "Epoch 115/150\n",
            " - 1s - loss: 0.0145 - accuracy: 0.9952 - val_loss: 0.0764 - val_accuracy: 0.9850\n",
            "Epoch 116/150\n",
            " - 1s - loss: 0.0119 - accuracy: 0.9959 - val_loss: 0.0783 - val_accuracy: 0.9840\n",
            "Epoch 117/150\n",
            " - 1s - loss: 0.0140 - accuracy: 0.9954 - val_loss: 0.0768 - val_accuracy: 0.9850\n",
            "Epoch 118/150\n",
            " - 1s - loss: 0.0117 - accuracy: 0.9961 - val_loss: 0.0803 - val_accuracy: 0.9844\n",
            "Epoch 119/150\n",
            " - 1s - loss: 0.0115 - accuracy: 0.9961 - val_loss: 0.0805 - val_accuracy: 0.9835\n",
            "Epoch 120/150\n",
            " - 1s - loss: 0.0129 - accuracy: 0.9957 - val_loss: 0.0799 - val_accuracy: 0.9839\n",
            "Epoch 121/150\n",
            " - 1s - loss: 0.0125 - accuracy: 0.9959 - val_loss: 0.0801 - val_accuracy: 0.9834\n",
            "Epoch 122/150\n",
            " - 1s - loss: 0.0108 - accuracy: 0.9964 - val_loss: 0.0838 - val_accuracy: 0.9840\n",
            "Epoch 123/150\n",
            " - 1s - loss: 0.0123 - accuracy: 0.9960 - val_loss: 0.0785 - val_accuracy: 0.9842\n",
            "Epoch 124/150\n",
            " - 1s - loss: 0.0119 - accuracy: 0.9960 - val_loss: 0.0779 - val_accuracy: 0.9849\n",
            "Epoch 125/150\n",
            " - 1s - loss: 0.0124 - accuracy: 0.9960 - val_loss: 0.0785 - val_accuracy: 0.9833\n",
            "Epoch 126/150\n",
            " - 1s - loss: 0.0120 - accuracy: 0.9959 - val_loss: 0.0769 - val_accuracy: 0.9842\n",
            "Epoch 127/150\n",
            " - 1s - loss: 0.0117 - accuracy: 0.9964 - val_loss: 0.0787 - val_accuracy: 0.9835\n",
            "Epoch 128/150\n",
            " - 1s - loss: 0.0121 - accuracy: 0.9959 - val_loss: 0.0780 - val_accuracy: 0.9849\n",
            "Epoch 129/150\n",
            " - 1s - loss: 0.0116 - accuracy: 0.9961 - val_loss: 0.0755 - val_accuracy: 0.9839\n",
            "Epoch 130/150\n",
            " - 1s - loss: 0.0122 - accuracy: 0.9959 - val_loss: 0.0772 - val_accuracy: 0.9843\n",
            "Epoch 131/150\n",
            " - 1s - loss: 0.0139 - accuracy: 0.9953 - val_loss: 0.0785 - val_accuracy: 0.9828\n",
            "Epoch 132/150\n",
            " - 1s - loss: 0.0120 - accuracy: 0.9963 - val_loss: 0.0789 - val_accuracy: 0.9839\n",
            "Epoch 133/150\n",
            " - 1s - loss: 0.0128 - accuracy: 0.9959 - val_loss: 0.0797 - val_accuracy: 0.9834\n",
            "Epoch 134/150\n",
            " - 1s - loss: 0.0128 - accuracy: 0.9957 - val_loss: 0.0807 - val_accuracy: 0.9832\n",
            "Epoch 135/150\n",
            " - 1s - loss: 0.0106 - accuracy: 0.9964 - val_loss: 0.0795 - val_accuracy: 0.9845\n",
            "Epoch 136/150\n",
            " - 1s - loss: 0.0115 - accuracy: 0.9959 - val_loss: 0.0795 - val_accuracy: 0.9834\n",
            "Epoch 137/150\n",
            " - 1s - loss: 0.0116 - accuracy: 0.9963 - val_loss: 0.0805 - val_accuracy: 0.9833\n",
            "Epoch 138/150\n",
            " - 1s - loss: 0.0111 - accuracy: 0.9964 - val_loss: 0.0786 - val_accuracy: 0.9835\n",
            "Epoch 139/150\n",
            " - 1s - loss: 0.0122 - accuracy: 0.9957 - val_loss: 0.0831 - val_accuracy: 0.9832\n",
            "Epoch 140/150\n",
            " - 1s - loss: 0.0134 - accuracy: 0.9959 - val_loss: 0.0808 - val_accuracy: 0.9836\n",
            "Epoch 141/150\n",
            " - 1s - loss: 0.0111 - accuracy: 0.9963 - val_loss: 0.0799 - val_accuracy: 0.9834\n",
            "Epoch 142/150\n",
            " - 1s - loss: 0.0107 - accuracy: 0.9965 - val_loss: 0.0855 - val_accuracy: 0.9833\n",
            "Epoch 143/150\n",
            " - 1s - loss: 0.0101 - accuracy: 0.9965 - val_loss: 0.0845 - val_accuracy: 0.9837\n",
            "Epoch 144/150\n",
            " - 1s - loss: 0.0104 - accuracy: 0.9966 - val_loss: 0.0794 - val_accuracy: 0.9847\n",
            "Epoch 145/150\n",
            " - 1s - loss: 0.0101 - accuracy: 0.9964 - val_loss: 0.0852 - val_accuracy: 0.9838\n",
            "Epoch 146/150\n",
            " - 1s - loss: 0.0105 - accuracy: 0.9965 - val_loss: 0.0810 - val_accuracy: 0.9835\n",
            "Epoch 147/150\n",
            " - 1s - loss: 0.0099 - accuracy: 0.9969 - val_loss: 0.0793 - val_accuracy: 0.9842\n",
            "Epoch 148/150\n",
            " - 1s - loss: 0.0106 - accuracy: 0.9965 - val_loss: 0.0823 - val_accuracy: 0.9833\n",
            "Epoch 149/150\n",
            " - 1s - loss: 0.0118 - accuracy: 0.9964 - val_loss: 0.0777 - val_accuracy: 0.9844\n",
            "Epoch 150/150\n",
            " - 1s - loss: 0.0103 - accuracy: 0.9965 - val_loss: 0.0771 - val_accuracy: 0.9843\n"
          ],
          "name": "stdout"
        }
      ]
    },
    {
      "cell_type": "code",
      "metadata": {
        "id": "yJfoz_Ggx0jm",
        "colab_type": "code",
        "outputId": "a4fcad74-e154-4e78-80a8-677b65d01662",
        "colab": {
          "base_uri": "https://localhost:8080/",
          "height": 513
        }
      },
      "source": [
        "import matplotlib.pyplot as plt\n",
        "plt.plot(history.history['loss'],label='loss')\n",
        "plt.plot(history.history['val_loss'],label='val_loss')\n",
        "plt.legend()\n",
        "plt.show()\n",
        "plt.plot(history.history['accuracy'],label='acc')\n",
        "plt.plot(history.history['val_accuracy'],label='val_acc')\n",
        "plt.legend()\n",
        "plt.show()"
      ],
      "execution_count": 0,
      "outputs": [
        {
          "output_type": "display_data",
          "data": {
            "image/png": "[encoded data removed]",
            "text/plain": [
              "<Figure size 432x288 with 1 Axes>"
            ]
          },
          "metadata": {
            "tags": [],
            "needs_background": "light"
          }
        },
        {
          "output_type": "display_data",
          "data": {
            "image/png": "[encoded data removed]",
            "text/plain": [
              "<Figure size 432x288 with 1 Axes>"
            ]
          },
          "metadata": {
            "tags": [],
            "needs_background": "light"
          }
        }
      ]
    },
    {
      "cell_type": "code",
      "metadata": {
        "id": "siBREa2cx0jt",
        "colab_type": "code",
        "outputId": "770585b3-95e0-4440-fa33-8fd5e140538c",
        "colab": {
          "base_uri": "https://localhost:8080/",
          "height": 50
        }
      },
      "source": [
        "train=model.evaluate(X_train,y_train)\n",
        "print(train)"
      ],
      "execution_count": 0,
      "outputs": [
        {
          "output_type": "stream",
          "text": [
            "49500/49500 [==============================] - 4s 86us/step\n",
            "[0.00023556755931090402, 1.0]\n"
          ],
          "name": "stdout"
        }
      ]
    },
    {
      "cell_type": "code",
      "metadata": {
        "id": "-jQ_foY3x0j4",
        "colab_type": "code",
        "outputId": "93f9c15c-6981-4c6d-8506-17ad0277de24",
        "colab": {
          "base_uri": "https://localhost:8080/",
          "height": 50
        }
      },
      "source": [
        "val=model.evaluate(X_val,y_val)\n",
        "print(val)"
      ],
      "execution_count": 0,
      "outputs": [
        {
          "output_type": "stream",
          "text": [
            "10500/10500 [==============================] - 1s 87us/step\n",
            "[0.07706455891983031, 0.9842857122421265]\n"
          ],
          "name": "stdout"
        }
      ]
    },
    {
      "cell_type": "code",
      "metadata": {
        "id": "wFenXVAwx0j_",
        "colab_type": "code",
        "outputId": "3f1ec172-c104-4205-b4d8-03c70915b74c",
        "colab": {
          "base_uri": "https://localhost:8080/",
          "height": 50
        }
      },
      "source": [
        "print(100*(1-train[1]))\n",
        "print(100*(train[1]-val[1]))#After tuning.....the measure of \"variance\" wasn't reducing after...~~ 1.5%"
      ],
      "execution_count": 0,
      "outputs": [
        {
          "output_type": "stream",
          "text": [
            "0.0\n",
            "1.5714287757873535\n"
          ],
          "name": "stdout"
        }
      ]
    },
    {
      "cell_type": "code",
      "metadata": {
        "id": "vl5psiwSFyto",
        "colab_type": "code",
        "colab": {}
      },
      "source": [
        "model.save('mnist-ann.model')"
      ],
      "execution_count": 0,
      "outputs": []
    },
    {
      "cell_type": "markdown",
      "metadata": {
        "id": "lipRGzik7RHo",
        "colab_type": "text"
      },
      "source": [
        "# **3.) Evaluation on Test set**"
      ]
    },
    {
      "cell_type": "code",
      "metadata": {
        "id": "mNrR8V31zWKS",
        "colab_type": "code",
        "outputId": "01c03d3b-a1ef-479b-a003-ea1645600bcf",
        "colab": {
          "base_uri": "https://localhost:8080/",
          "height": 50
        }
      },
      "source": [
        "model.evaluate(X_test,y_test)"
      ],
      "execution_count": 0,
      "outputs": [
        {
          "output_type": "stream",
          "text": [
            "10000/10000 [==============================] - 1s 85us/step\n"
          ],
          "name": "stdout"
        },
        {
          "output_type": "execute_result",
          "data": {
            "text/plain": [
              "[0.08582737032464338, 0.9842000007629395]"
            ]
          },
          "metadata": {
            "tags": []
          },
          "execution_count": 10
        }
      ]
    }
  ]
}