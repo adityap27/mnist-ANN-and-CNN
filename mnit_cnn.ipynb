{
  "nbformat": 4,
  "nbformat_minor": 0,
  "metadata": {
    "language_info": {
      "codemirror_mode": {
        "name": "ipython",
        "version": 3
      },
      "file_extension": ".py",
      "mimetype": "text/x-python",
      "name": "python",
      "nbconvert_exporter": "python",
      "pygments_lexer": "ipython3",
      "version": "3.7.4-final"
    },
    "orig_nbformat": 2,
    "kernelspec": {
      "name": "python3",
      "display_name": "Python 3"
    },
    "colab": {
      "name": "mnit-cnn.ipynb",
      "provenance": [],
      "collapsed_sections": [],
      "toc_visible": true,
      "include_colab_link": true
    },
    "accelerator": "GPU"
  },
  "cells": [
    {
      "cell_type": "markdown",
      "metadata": {
        "id": "view-in-github",
        "colab_type": "text"
      },
      "source": [
        "<a href=\"https://colab.research.google.com/github/adityap27/mnist-ann/blob/master/mnit_cnn.ipynb\" target=\"_parent\"><img src=\"https://colab.research.google.com/assets/colab-badge.svg\" alt=\"Open In Colab\"/></a>"
      ]
    },
    {
      "cell_type": "markdown",
      "metadata": {
        "id": "L6V8O6Fjx0iy",
        "colab_type": "text"
      },
      "source": [
        "# **1.) Data Preprocessing**"
      ]
    },
    {
      "cell_type": "code",
      "metadata": {
        "id": "gO1pNdcBEDuQ",
        "colab_type": "code",
        "colab": {}
      },
      "source": [
        "#importing libraries \n",
        "from keras.datasets import mnist\n",
        "import numpy as np\n",
        "\n",
        "# Importing the dataset\n",
        "(X_train,y_train),(X_test,y_test) = mnist.load_data()\n",
        "\n",
        "#fixing shapes\n",
        "X_train=np.expand_dims(X_train,3)\n",
        "X_test=np.expand_dims(X_test,3)\n",
        "y_train=y_train.reshape((y_train.shape[0],1))\n",
        "y_test=y_test.reshape((y_test.shape[0],1))\n",
        "\n",
        "#Encoding of categorical data to one-hot format\n",
        "from sklearn.preprocessing import OneHotEncoder\n",
        "onehotencoder=OneHotEncoder(sparse=False)\n",
        "y_train=onehotencoder.fit_transform(y_train)\n",
        "y_test=onehotencoder.transform(y_test)\n",
        "\n",
        "# Splitting the Training into the Training set and Validation set\n",
        "from sklearn.model_selection import train_test_split\n",
        "X_train, X_val, y_train, y_val = train_test_split(X_train, y_train, test_size = 0.175, random_state = 0)\n",
        "\n",
        "#Feature Scaling\n",
        "X_train = X_train / 255\n",
        "X_val = X_val / 255\n",
        "X_test = X_test / 255"
      ],
      "execution_count": 0,
      "outputs": []
    },
    {
      "cell_type": "code",
      "metadata": {
        "id": "WOonVb_9MvSr",
        "colab_type": "code",
        "colab": {}
      },
      "source": [
        "#Creating generator for Real-time Data Augmentation\n",
        "from keras.preprocessing.image import ImageDataGenerator\n",
        "\n",
        "train_datagen=ImageDataGenerator(rotation_range=5,shear_range=0.05,zoom_range=0.05)\n",
        "\n",
        "train_generator=train_datagen.flow(X_train,y_train,batch_size=128)"
      ],
      "execution_count": 0,
      "outputs": []
    },
    {
      "cell_type": "markdown",
      "metadata": {
        "id": "19mLQmFJx0jI",
        "colab_type": "text"
      },
      "source": [
        "# **2.) Build and Train CNN**"
      ]
    },
    {
      "cell_type": "code",
      "metadata": {
        "id": "2U50Rkvfx0jK",
        "colab_type": "code",
        "colab": {}
      },
      "source": [
        "#CNN\n",
        "\n",
        "#import libraries\n",
        "import keras\n",
        "from keras.models import Sequential\n",
        "from keras.layers import Dense,Activation,Dropout,Conv2D,MaxPool2D,Flatten"
      ],
      "execution_count": 0,
      "outputs": []
    },
    {
      "cell_type": "code",
      "metadata": {
        "id": "3BGOrlSwx0jS",
        "colab_type": "code",
        "colab": {
          "base_uri": "https://localhost:8080/",
          "height": 554
        },
        "outputId": "69328402-55a8-45f7-d7d8-30d1d46cb4cb"
      },
      "source": [
        "#Build CNN model\n",
        "model=Sequential()\n",
        "model.add(Conv2D(32,kernel_size=(3,3),padding='same',strides=1,activation='relu',kernel_initializer='he_normal',input_shape=(28,28,1)))\n",
        "model.add(Conv2D(32,kernel_size=(3,3),padding='same',strides=1,activation='relu',kernel_initializer='he_normal'))\n",
        "model.add(MaxPool2D(pool_size=(2,2),strides=2,padding='valid'))\n",
        "model.add(Dropout(0.25))\n",
        "\n",
        "model.add(Conv2D(64,kernel_size=(3,3),strides=1,padding='same',activation='relu',kernel_initializer='he_normal'))\n",
        "model.add(Conv2D(64,kernel_size=(3,3),strides=1,padding='same',activation='relu',kernel_initializer='he_normal'))\n",
        "model.add(MaxPool2D(pool_size=(2,2),strides=2,padding='valid'))\n",
        "model.add(Dropout(0.25))\n",
        "\n",
        "model.add(Flatten())\n",
        "\n",
        "model.add(Dense(256,activation='relu',kernel_initializer='he_normal'))\n",
        "model.add(Dropout(0.4))\n",
        "model.add(Dense(10,activation='softmax',kernel_initializer='glorot_normal'))\n",
        "\n",
        "#Compiling model\n",
        "model.compile(optimizer=keras.optimizers.Adam(learning_rate=0.001),loss='categorical_crossentropy',metrics=['accuracy'])\n",
        "model.summary()"
      ],
      "execution_count": 15,
      "outputs": [
        {
          "output_type": "stream",
          "text": [
            "Model: \"sequential_2\"\n",
            "_________________________________________________________________\n",
            "Layer (type)                 Output Shape              Param #   \n",
            "=================================================================\n",
            "conv2d_5 (Conv2D)            (None, 28, 28, 32)        320       \n",
            "_________________________________________________________________\n",
            "conv2d_6 (Conv2D)            (None, 28, 28, 32)        9248      \n",
            "_________________________________________________________________\n",
            "max_pooling2d_3 (MaxPooling2 (None, 14, 14, 32)        0         \n",
            "_________________________________________________________________\n",
            "dropout_4 (Dropout)          (None, 14, 14, 32)        0         \n",
            "_________________________________________________________________\n",
            "conv2d_7 (Conv2D)            (None, 14, 14, 64)        18496     \n",
            "_________________________________________________________________\n",
            "conv2d_8 (Conv2D)            (None, 14, 14, 64)        36928     \n",
            "_________________________________________________________________\n",
            "max_pooling2d_4 (MaxPooling2 (None, 7, 7, 64)          0         \n",
            "_________________________________________________________________\n",
            "dropout_5 (Dropout)          (None, 7, 7, 64)          0         \n",
            "_________________________________________________________________\n",
            "flatten_2 (Flatten)          (None, 3136)              0         \n",
            "_________________________________________________________________\n",
            "dense_3 (Dense)              (None, 256)               803072    \n",
            "_________________________________________________________________\n",
            "dropout_6 (Dropout)          (None, 256)               0         \n",
            "_________________________________________________________________\n",
            "dense_4 (Dense)              (None, 10)                2570      \n",
            "=================================================================\n",
            "Total params: 870,634\n",
            "Trainable params: 870,634\n",
            "Non-trainable params: 0\n",
            "_________________________________________________________________\n"
          ],
          "name": "stdout"
        }
      ]
    },
    {
      "cell_type": "code",
      "metadata": {
        "id": "Vo-v-LFNtDd2",
        "colab_type": "code",
        "colab": {
          "base_uri": "https://localhost:8080/",
          "height": 1000
        },
        "outputId": "097576fd-0091-4e85-ff07-56b6f6805a31"
      },
      "source": [
        "#Training model\n",
        "def scheduler(epoch):\n",
        "  if epoch < 10:\n",
        "    return 0.001\n",
        "  else:\n",
        "    return 0.001 * np.exp(0.1 * (10 - epoch))\n",
        "callback = keras.callbacks.LearningRateScheduler(scheduler)\n",
        "history=model.fit(train_generator,epochs=50,validation_data=(X_val,y_val),callbacks=[callback],workers=5,use_multiprocessing=True)"
      ],
      "execution_count": 16,
      "outputs": [
        {
          "output_type": "stream",
          "text": [
            "Epoch 1/50\n",
            "386/387 [============================>.] - ETA: 0s - loss: 0.2614 - accuracy: 0.9170\n",
            "387/387 [==============================] - 11s 28ms/step - loss: 0.2608 - accuracy: 0.9171 - val_loss: 0.0453 - val_accuracy: 0.9860\n",
            "Epoch 2/50\n",
            "387/387 [==============================] - 10s 27ms/step - loss: 0.0780 - accuracy: 0.9762 - val_loss: 0.0341 - val_accuracy: 0.9900\n",
            "Epoch 3/50\n",
            "387/387 [==============================] - 10s 26ms/step - loss: 0.0563 - accuracy: 0.9827 - val_loss: 0.0296 - val_accuracy: 0.9909\n",
            "Epoch 4/50\n",
            "387/387 [==============================] - 10s 27ms/step - loss: 0.0456 - accuracy: 0.9857 - val_loss: 0.0250 - val_accuracy: 0.9918\n",
            "Epoch 5/50\n",
            "387/387 [==============================] - 11s 27ms/step - loss: 0.0405 - accuracy: 0.9878 - val_loss: 0.0217 - val_accuracy: 0.9930\n",
            "Epoch 6/50\n",
            "387/387 [==============================] - 10s 27ms/step - loss: 0.0356 - accuracy: 0.9891 - val_loss: 0.0251 - val_accuracy: 0.9925\n",
            "Epoch 7/50\n",
            "387/387 [==============================] - 10s 27ms/step - loss: 0.0305 - accuracy: 0.9907 - val_loss: 0.0251 - val_accuracy: 0.9926\n",
            "Epoch 8/50\n",
            "387/387 [==============================] - 10s 27ms/step - loss: 0.0273 - accuracy: 0.9916 - val_loss: 0.0218 - val_accuracy: 0.9936\n",
            "Epoch 9/50\n",
            "387/387 [==============================] - 10s 27ms/step - loss: 0.0267 - accuracy: 0.9913 - val_loss: 0.0237 - val_accuracy: 0.9942\n",
            "Epoch 10/50\n",
            "387/387 [==============================] - 10s 27ms/step - loss: 0.0240 - accuracy: 0.9923 - val_loss: 0.0228 - val_accuracy: 0.9946\n",
            "Epoch 11/50\n",
            "387/387 [==============================] - 10s 27ms/step - loss: 0.0228 - accuracy: 0.9929 - val_loss: 0.0239 - val_accuracy: 0.9937\n",
            "Epoch 12/50\n",
            "387/387 [==============================] - 10s 27ms/step - loss: 0.0201 - accuracy: 0.9933 - val_loss: 0.0225 - val_accuracy: 0.9944\n",
            "Epoch 13/50\n",
            "387/387 [==============================] - 10s 27ms/step - loss: 0.0172 - accuracy: 0.9942 - val_loss: 0.0223 - val_accuracy: 0.9947\n",
            "Epoch 14/50\n",
            "387/387 [==============================] - 11s 27ms/step - loss: 0.0153 - accuracy: 0.9952 - val_loss: 0.0202 - val_accuracy: 0.9950\n",
            "Epoch 15/50\n",
            "387/387 [==============================] - 10s 27ms/step - loss: 0.0134 - accuracy: 0.9957 - val_loss: 0.0254 - val_accuracy: 0.9950\n",
            "Epoch 16/50\n",
            "387/387 [==============================] - 10s 27ms/step - loss: 0.0120 - accuracy: 0.9962 - val_loss: 0.0251 - val_accuracy: 0.9942\n",
            "Epoch 17/50\n",
            "387/387 [==============================] - 10s 27ms/step - loss: 0.0107 - accuracy: 0.9966 - val_loss: 0.0204 - val_accuracy: 0.9954\n",
            "Epoch 18/50\n",
            "387/387 [==============================] - 10s 27ms/step - loss: 0.0104 - accuracy: 0.9967 - val_loss: 0.0255 - val_accuracy: 0.9938\n",
            "Epoch 19/50\n",
            "387/387 [==============================] - 10s 27ms/step - loss: 0.0090 - accuracy: 0.9968 - val_loss: 0.0237 - val_accuracy: 0.9952\n",
            "Epoch 20/50\n",
            "387/387 [==============================] - 10s 27ms/step - loss: 0.0077 - accuracy: 0.9975 - val_loss: 0.0248 - val_accuracy: 0.9957\n",
            "Epoch 21/50\n",
            "387/387 [==============================] - 10s 27ms/step - loss: 0.0079 - accuracy: 0.9975 - val_loss: 0.0237 - val_accuracy: 0.9951\n",
            "Epoch 22/50\n",
            "387/387 [==============================] - 10s 27ms/step - loss: 0.0064 - accuracy: 0.9980 - val_loss: 0.0244 - val_accuracy: 0.9953\n",
            "Epoch 23/50\n",
            "387/387 [==============================] - 10s 27ms/step - loss: 0.0061 - accuracy: 0.9981 - val_loss: 0.0234 - val_accuracy: 0.9951\n",
            "Epoch 24/50\n",
            "387/387 [==============================] - 10s 26ms/step - loss: 0.0055 - accuracy: 0.9982 - val_loss: 0.0242 - val_accuracy: 0.9954\n",
            "Epoch 25/50\n",
            "387/387 [==============================] - 10s 27ms/step - loss: 0.0053 - accuracy: 0.9981 - val_loss: 0.0236 - val_accuracy: 0.9958\n",
            "Epoch 26/50\n",
            "387/387 [==============================] - 10s 26ms/step - loss: 0.0042 - accuracy: 0.9986 - val_loss: 0.0254 - val_accuracy: 0.9955\n",
            "Epoch 27/50\n",
            "387/387 [==============================] - 10s 26ms/step - loss: 0.0041 - accuracy: 0.9986 - val_loss: 0.0248 - val_accuracy: 0.9953\n",
            "Epoch 28/50\n",
            "387/387 [==============================] - 10s 27ms/step - loss: 0.0041 - accuracy: 0.9986 - val_loss: 0.0252 - val_accuracy: 0.9959\n",
            "Epoch 29/50\n",
            "387/387 [==============================] - 10s 27ms/step - loss: 0.0034 - accuracy: 0.9989 - val_loss: 0.0241 - val_accuracy: 0.9956\n",
            "Epoch 30/50\n",
            "387/387 [==============================] - 10s 26ms/step - loss: 0.0041 - accuracy: 0.9986 - val_loss: 0.0249 - val_accuracy: 0.9960\n",
            "Epoch 31/50\n",
            "387/387 [==============================] - 10s 26ms/step - loss: 0.0040 - accuracy: 0.9987 - val_loss: 0.0235 - val_accuracy: 0.9960\n",
            "Epoch 32/50\n",
            "387/387 [==============================] - 10s 26ms/step - loss: 0.0032 - accuracy: 0.9989 - val_loss: 0.0240 - val_accuracy: 0.9960\n",
            "Epoch 33/50\n",
            "387/387 [==============================] - 10s 26ms/step - loss: 0.0032 - accuracy: 0.9989 - val_loss: 0.0245 - val_accuracy: 0.9959\n",
            "Epoch 34/50\n",
            "387/387 [==============================] - 10s 27ms/step - loss: 0.0033 - accuracy: 0.9989 - val_loss: 0.0245 - val_accuracy: 0.9963\n",
            "Epoch 35/50\n",
            "387/387 [==============================] - 10s 26ms/step - loss: 0.0027 - accuracy: 0.9992 - val_loss: 0.0244 - val_accuracy: 0.9961\n",
            "Epoch 36/50\n",
            "387/387 [==============================] - 10s 26ms/step - loss: 0.0028 - accuracy: 0.9991 - val_loss: 0.0248 - val_accuracy: 0.9960\n",
            "Epoch 37/50\n",
            "387/387 [==============================] - 10s 26ms/step - loss: 0.0032 - accuracy: 0.9989 - val_loss: 0.0236 - val_accuracy: 0.9960\n",
            "Epoch 38/50\n",
            "387/387 [==============================] - 10s 26ms/step - loss: 0.0026 - accuracy: 0.9991 - val_loss: 0.0245 - val_accuracy: 0.9961\n",
            "Epoch 39/50\n",
            "387/387 [==============================] - 10s 26ms/step - loss: 0.0026 - accuracy: 0.9991 - val_loss: 0.0255 - val_accuracy: 0.9960\n",
            "Epoch 40/50\n",
            "387/387 [==============================] - 10s 26ms/step - loss: 0.0021 - accuracy: 0.9994 - val_loss: 0.0258 - val_accuracy: 0.9959\n",
            "Epoch 41/50\n",
            "387/387 [==============================] - 10s 26ms/step - loss: 0.0021 - accuracy: 0.9992 - val_loss: 0.0263 - val_accuracy: 0.9960\n",
            "Epoch 42/50\n",
            "387/387 [==============================] - 10s 26ms/step - loss: 0.0024 - accuracy: 0.9992 - val_loss: 0.0257 - val_accuracy: 0.9961\n",
            "Epoch 43/50\n",
            "387/387 [==============================] - 10s 26ms/step - loss: 0.0017 - accuracy: 0.9994 - val_loss: 0.0261 - val_accuracy: 0.9960\n",
            "Epoch 44/50\n",
            "387/387 [==============================] - 10s 26ms/step - loss: 0.0024 - accuracy: 0.9991 - val_loss: 0.0256 - val_accuracy: 0.9963\n",
            "Epoch 45/50\n",
            "387/387 [==============================] - 10s 26ms/step - loss: 0.0018 - accuracy: 0.9994 - val_loss: 0.0259 - val_accuracy: 0.9962\n",
            "Epoch 46/50\n",
            "387/387 [==============================] - 10s 27ms/step - loss: 0.0017 - accuracy: 0.9994 - val_loss: 0.0257 - val_accuracy: 0.9963\n",
            "Epoch 47/50\n",
            "387/387 [==============================] - 10s 26ms/step - loss: 0.0017 - accuracy: 0.9994 - val_loss: 0.0265 - val_accuracy: 0.9960\n",
            "Epoch 48/50\n",
            "387/387 [==============================] - 10s 26ms/step - loss: 0.0021 - accuracy: 0.9992 - val_loss: 0.0267 - val_accuracy: 0.9963\n",
            "Epoch 49/50\n",
            "387/387 [==============================] - 10s 26ms/step - loss: 0.0018 - accuracy: 0.9993 - val_loss: 0.0266 - val_accuracy: 0.9962\n",
            "Epoch 50/50\n",
            "387/387 [==============================] - 10s 26ms/step - loss: 0.0015 - accuracy: 0.9995 - val_loss: 0.0266 - val_accuracy: 0.9961\n"
          ],
          "name": "stdout"
        }
      ]
    },
    {
      "cell_type": "code",
      "metadata": {
        "id": "yJfoz_Ggx0jm",
        "colab_type": "code",
        "outputId": "53ad6626-fb7d-45d1-897b-2af712c34bfe",
        "colab": {
          "base_uri": "https://localhost:8080/",
          "height": 761
        }
      },
      "source": [
        "#Some visualizations\n",
        "import matplotlib.pyplot as plt\n",
        "#Loss\n",
        "plt.plot(history.history['loss'],label='loss')\n",
        "plt.plot(history.history['val_loss'],label='val_loss')\n",
        "plt.legend()\n",
        "plt.show()\n",
        "#Accuracy\n",
        "plt.plot(history.history['accuracy'],label='acc')\n",
        "plt.plot(history.history['val_accuracy'],label='val_acc')\n",
        "plt.legend()\n",
        "plt.show()\n",
        "#Learning Rate\n",
        "plt.plot(history.history['lr'],label='learning rate')\n",
        "plt.legend()\n",
        "plt.show()"
      ],
      "execution_count": 17,
      "outputs": [
        {
          "output_type": "display_data",
          "data": {
            "image/png": "[encoded data removed]",
            "text/plain": [
              "<Figure size 432x288 with 1 Axes>"
            ]
          },
          "metadata": {
            "tags": [],
            "needs_background": "light"
          }
        },
        {
          "output_type": "display_data",
          "data": {
            "image/png": "[encoded data removed]",
            "text/plain": [
              "<Figure size 432x288 with 1 Axes>"
            ]
          },
          "metadata": {
            "tags": [],
            "needs_background": "light"
          }
        },
        {
          "output_type": "display_data",
          "data": {
            "image/png": "[encoded data removed]",
            "text/plain": [
              "<Figure size 432x288 with 1 Axes>"
            ]
          },
          "metadata": {
            "tags": [],
            "needs_background": "light"
          }
        }
      ]
    },
    {
      "cell_type": "code",
      "metadata": {
        "id": "siBREa2cx0jt",
        "colab_type": "code",
        "outputId": "ae5ff034-0f92-4377-cfef-ad663d03756f",
        "colab": {
          "base_uri": "https://localhost:8080/",
          "height": 50
        }
      },
      "source": [
        "train=model.evaluate(X_train,y_train)\n",
        "print(train)"
      ],
      "execution_count": 18,
      "outputs": [
        {
          "output_type": "stream",
          "text": [
            "49500/49500 [==============================] - 4s 73us/step\n",
            "[4.319644763384975e-05, 1.0]\n"
          ],
          "name": "stdout"
        }
      ]
    },
    {
      "cell_type": "code",
      "metadata": {
        "id": "-jQ_foY3x0j4",
        "colab_type": "code",
        "outputId": "4e7aca03-9e99-4ab7-a780-f78511dd9905",
        "colab": {
          "base_uri": "https://localhost:8080/",
          "height": 50
        }
      },
      "source": [
        "val=model.evaluate(X_val,y_val)\n",
        "print(val)"
      ],
      "execution_count": 19,
      "outputs": [
        {
          "output_type": "stream",
          "text": [
            "10500/10500 [==============================] - 1s 74us/step\n",
            "[0.026639597142840775, 0.9960952401161194]\n"
          ],
          "name": "stdout"
        }
      ]
    },
    {
      "cell_type": "code",
      "metadata": {
        "id": "wFenXVAwx0j_",
        "colab_type": "code",
        "outputId": "3743bb72-0d7a-4221-90e8-2cb428eec733",
        "colab": {
          "base_uri": "https://localhost:8080/",
          "height": 50
        }
      },
      "source": [
        "print(100*(1-train[1]))\n",
        "print(100*(train[1]-val[1]))"
      ],
      "execution_count": 20,
      "outputs": [
        {
          "output_type": "stream",
          "text": [
            "0.0\n",
            "0.3904759883880615\n"
          ],
          "name": "stdout"
        }
      ]
    },
    {
      "cell_type": "code",
      "metadata": {
        "id": "vl5psiwSFyto",
        "colab_type": "code",
        "colab": {}
      },
      "source": [
        "model.save('mnist-cnn.model')"
      ],
      "execution_count": 0,
      "outputs": []
    },
    {
      "cell_type": "markdown",
      "metadata": {
        "id": "lipRGzik7RHo",
        "colab_type": "text"
      },
      "source": [
        "# **3.) Evaluation on Test set**"
      ]
    },
    {
      "cell_type": "code",
      "metadata": {
        "id": "O7M-USufxM1l",
        "colab_type": "code",
        "colab": {
          "base_uri": "https://localhost:8080/",
          "height": 50
        },
        "outputId": "0176841e-3185-491d-b004-d96a03ff61ed"
      },
      "source": [
        "model.evaluate(X_test,y_test)"
      ],
      "execution_count": 22,
      "outputs": [
        {
          "output_type": "stream",
          "text": [
            "10000/10000 [==============================] - 1s 76us/step\n"
          ],
          "name": "stdout"
        },
        {
          "output_type": "execute_result",
          "data": {
            "text/plain": [
              "[0.01838941933086469, 0.9961000084877014]"
            ]
          },
          "metadata": {
            "tags": []
          },
          "execution_count": 22
        }
      ]
    }
  ]
}